{
 "cells": [
  {
   "cell_type": "markdown",
   "metadata": {},
   "source": [
    "# Some Examples of Generated Degradaed Images"
   ]
  },
  {
   "cell_type": "markdown",
   "metadata": {},
   "source": [
    "## Dataset: Caltech-256\n",
    "Set of 256 object categories and 1 clutter category containing a total of 30607 images.\n",
    "We select 60 images randomly as training images per class, and the rest are used for testing. Among the training images, 20% per class are used as a validation set."
   ]
  },
  {
   "cell_type": "code",
   "execution_count": null,
   "metadata": {},
   "outputs": [],
   "source": [
    "DATA_DIR = \"datasets/caltech256\""
   ]
  },
  {
   "cell_type": "code",
   "execution_count": null,
   "metadata": {},
   "outputs": [],
   "source": [
    "from data import Caltech256\n",
    "caltech256_train = Caltech256(root=DATA_DIR, phase='train', download=True, is_return_origin=True)\n",
    "caltech256_valid = Caltech256(root=DATA_DIR, phase='valid', download=True, is_return_origin=True)\n",
    "caltech256_test = Caltech256(root=DATA_DIR, phase='test', download=True, is_return_origin=True)\n",
    "print(\"Total number of train images: {}.\".format(len(caltech256_train)))\n",
    "print(\"Total number of valid images: {}.\".format(len(caltech256_valid)))\n",
    "print(\"Total number of test images: {}.\".format(len(caltech256_test)))"
   ]
  },
  {
   "cell_type": "markdown",
   "metadata": {},
   "source": [
    "## Example of clean images"
   ]
  },
  {
   "cell_type": "code",
   "execution_count": null,
   "metadata": {},
   "outputs": [],
   "source": [
    "from torchvision import transforms\n",
    "import numpy as np\n",
    "transform = transforms.Compose([\n",
    "            transforms.Resize(224),\n",
    "            transforms.CenterCrop(224),\n",
    "            transforms.ToTensor()])\n",
    "caltech256 = Caltech256(root=DATA_DIR, phase='train', download=True, transform=transform, is_return_origin=False)\n",
    "index = np.random.randint(len(caltech256))\n",
    "index = 1139\n",
    "print('index=%d' % index)\n",
    "image, label = caltech256[index]\n",
    "\n",
    "import matplotlib.pyplot as plt\n",
    "plt.imshow(image.permute(1, 2, 0).cpu().numpy())\n",
    "plt.xticks([])\n",
    "plt.yticks([])\n",
    "plt.show()\n",
    "print('This image belong to category: {}.'.format(caltech256.map[label]))"
   ]
  },
  {
   "cell_type": "markdown",
   "metadata": {},
   "source": [
    "## Genearted synthetic images: additive white Gaussian noise"
   ]
  },
  {
   "cell_type": "code",
   "execution_count": null,
   "metadata": {},
   "outputs": [],
   "source": [
    "from degradation import AdditiveWhiteGaussianNoise\n",
    "import os\n",
    "\n",
    "plt.rcParams.update({'font.size': 10})\n",
    "\n",
    "fig, ax = plt.subplots(1, 9, sharey=True, figsize=(15,10/5*4))\n",
    "# clean images\n",
    "ax[0].imshow(image.permute(1, 2, 0).cpu().numpy())\n",
    "ax[0].set_title('Clean')\n",
    "ax[0].set_xlabel('$\\sigma=0$')\n",
    "\n",
    "# uniform degraded\n",
    "index = 1\n",
    "for level in [0.1, 0.2, 0.3, 0.4, 0.5]:\n",
    "    degraded = AdditiveWhiteGaussianNoise(level=level, vary='uniform')(image)[0]\n",
    "    ax[index].imshow(degraded.permute(1, 2, 0).cpu().numpy())\n",
    "    ax[index].set_xlabel('$\\sigma=${}'.format(level))\n",
    "    index += 1\n",
    "ax[3].set_title('Uniform degradation')\n",
    "    \n",
    "# spatially varying\n",
    "level = (0, 0.5)\n",
    "vary = '1D'\n",
    "degraded = AdditiveWhiteGaussianNoise(level=level, vary=vary)(image)[0]\n",
    "ax[index].imshow(degraded.permute(1, 2, 0).cpu().numpy())\n",
    "ax[index].set_title('{} varying'.format(vary))\n",
    "ax[index].set_xlabel('$\\sigma=${}'.format(level))\n",
    "index += 1\n",
    "\n",
    "vary = '2D'\n",
    "for change in ['increase', 'decrease']:\n",
    "    degraded = AdditiveWhiteGaussianNoise(level=level, vary=vary, change=change)(image)[0]\n",
    "    ax[index].imshow(degraded.permute(1, 2, 0).cpu().numpy())\n",
    "    ax[index].set_xlabel('$\\sigma=${}'.format(level))\n",
    "    index += 1\n",
    "ax[7].set_title('                          2D varying')\n",
    "\n",
    "for i in range(len(ax)):\n",
    "    ax[i].set_xticks([])\n",
    "    ax[i].set_yticks([])\n",
    "plt.subplots_adjust(wspace=0.0)\n",
    "plt.savefig(os.path.join('result', 'example-images.png'), bbox_inches='tight', dpi=300)\n",
    "plt.show()"
   ]
  },
  {
   "cell_type": "code",
   "execution_count": null,
   "metadata": {},
   "outputs": [],
   "source": [
    "from degradation import AdditiveWhiteGaussianNoise\n",
    "import os\n",
    "\n",
    "plt.rcParams.update({'font.size': 10})\n",
    "\n",
    "fig, ax = plt.subplots(2, 5, sharey=True, figsize=(15/2,4.1))\n",
    "\n",
    "# uniform degraded\n",
    "index = 0\n",
    "for level in [0.1, 0.2, 0.3, 0.4, 0.5]:\n",
    "    degraded = AdditiveWhiteGaussianNoise(level=level, vary='uniform')(image)[0]\n",
    "    ax[0, index].imshow(degraded.permute(1, 2, 0).cpu().numpy())\n",
    "    ax[0, index].set_xlabel('$\\sigma=${}'.format(level))\n",
    "    index += 1\n",
    "ax[0, 2].set_title('Uniform degradation')\n",
    "\n",
    "# clean images\n",
    "ax[1, 0].imshow(image.permute(1, 2, 0).cpu().numpy())\n",
    "ax[1, 0].set_title('Clean')\n",
    "ax[1, 0].set_xlabel('$\\sigma=0$')\n",
    "    \n",
    "# spatially varying\n",
    "level = (0, 0.5)\n",
    "vary = '1D'\n",
    "index = 1\n",
    "for _ in range(2):\n",
    "    degraded = AdditiveWhiteGaussianNoise(level=level, vary=vary)(image)[0]\n",
    "    ax[1, index].imshow(degraded.permute(1, 2, 0).cpu().numpy())\n",
    "    ax[1, index].set_xlabel('$\\sigma=${}'.format(level))\n",
    "    index += 1\n",
    "ax[1, 1].set_title('                     1D varying')\n",
    "    \n",
    "vary = '2D'\n",
    "for change in ['increase', 'decrease']:\n",
    "    degraded = AdditiveWhiteGaussianNoise(level=level, vary=vary, change=change)(image)[0]\n",
    "    ax[1, index].imshow(degraded.permute(1, 2, 0).cpu().numpy())\n",
    "    ax[1, index].set_xlabel('$\\sigma=${}'.format(level))\n",
    "    index += 1\n",
    "ax[1, 3].set_title('                     2D varying')\n",
    "\n",
    "for i in range(ax.shape[0]):\n",
    "    for j in range(ax.shape[1]):\n",
    "        ax[i, j].set_xticks([])\n",
    "        ax[i, j].set_yticks([])\n",
    "plt.subplots_adjust(wspace=0.0)\n",
    "plt.savefig(os.path.join('result', 'example-images.png'), bbox_inches='tight', dpi=300)\n",
    "plt.show()"
   ]
  },
  {
   "cell_type": "markdown",
   "metadata": {},
   "source": [
    "## Genearted synthetic images: salt and pepper noise"
   ]
  },
  {
   "cell_type": "code",
   "execution_count": null,
   "metadata": {},
   "outputs": [],
   "source": [
    "from degradation import SaltAndPepperNoise\n",
    "\n",
    "fig, ax = plt.subplots(1, 8, sharey=True, figsize=(15,10/5*4))\n",
    "# clean images\n",
    "ax[0].imshow(image.permute(1, 2, 0).cpu().numpy())\n",
    "ax[0].set_title('Clean')\n",
    "ax[0].set_xlabel('$p=0$')\n",
    "\n",
    "# uniform degraded\n",
    "index = 1\n",
    "for level in [0.1, 0.2, 0.3, 0.4, 0.5]:\n",
    "    degraded = SaltAndPepperNoise(level=level, vary='uniform')(image)[0]\n",
    "    ax[index].imshow(degraded.permute(1, 2, 0).cpu().numpy())\n",
    "    ax[index].set_xlabel('$p=${}'.format(level))\n",
    "    index += 1\n",
    "ax[3].set_title('Uniform degradation')\n",
    "    \n",
    "# spatially varying\n",
    "level = (0, 0.5)\n",
    "for vary in ['1D', '2D']:\n",
    "    degraded = SaltAndPepperNoise(level=level, vary=vary)(image)[0]\n",
    "    ax[index].imshow(degraded.permute(1, 2, 0).cpu().numpy())\n",
    "    ax[index].set_title('{} varying'.format(vary))\n",
    "    ax[index].set_xlabel('$p=${}'.format(level))\n",
    "    index += 1\n",
    "\n",
    "for i in range(len(ax)):\n",
    "    ax[i].set_xticks([])\n",
    "    ax[i].set_yticks([])\n",
    "plt.subplots_adjust(wspace=0.0) \n",
    "plt.show()"
   ]
  },
  {
   "cell_type": "markdown",
   "metadata": {},
   "source": [
    "## Genearted synthetic images: Gaussian blur"
   ]
  },
  {
   "cell_type": "code",
   "execution_count": null,
   "metadata": {},
   "outputs": [],
   "source": [
    "from degradation import GaussianBlur\n",
    "\n",
    "fig, ax = plt.subplots(1, 8, sharey=True, figsize=(15,10/5*4))\n",
    "# clean images\n",
    "ax[0].imshow(image.permute(1, 2, 0).cpu().numpy())\n",
    "ax[0].set_title('Clean')\n",
    "ax[0].set_xlabel('$\\sigma=0$')\n",
    "\n",
    "# uniform degraded\n",
    "index = 1\n",
    "for level in [1, 2, 3, 4, 5]:\n",
    "    degraded = GaussianBlur(level=level, vary='uniform')(image)[0]\n",
    "    ax[index].imshow(degraded.permute(1, 2, 0).cpu().numpy())\n",
    "    ax[index].set_xlabel('$\\sigma=${}'.format(level))\n",
    "    index += 1\n",
    "ax[3].set_title('Uniform degradation')\n",
    "    \n",
    "# spatially varying\n",
    "level = (0, 5)\n",
    "for vary in ['1D', '2D']:\n",
    "    degraded = GaussianBlur(level=level, vary=vary)(image)[0]\n",
    "    ax[index].imshow(degraded.permute(1, 2, 0).cpu().numpy())\n",
    "    ax[index].set_title('{} varying'.format(vary))\n",
    "    ax[index].set_xlabel('$\\sigma=${}'.format(level))\n",
    "    index += 1\n",
    "\n",
    "for i in range(len(ax)):\n",
    "    ax[i].set_xticks([])\n",
    "    ax[i].set_yticks([])\n",
    "plt.subplots_adjust(wspace=0.0) \n",
    "plt.show()"
   ]
  },
  {
   "cell_type": "markdown",
   "metadata": {},
   "source": [
    "## Genearted synthetic images: motion blur"
   ]
  },
  {
   "cell_type": "code",
   "execution_count": null,
   "metadata": {},
   "outputs": [],
   "source": [
    "from degradation import MotionBlur\n",
    "\n",
    "fig, ax = plt.subplots(1, 8, sharey=True, figsize=(15,10/5*4))\n",
    "# clean images\n",
    "ax[0].imshow(image.permute(1, 2, 0).cpu().numpy())\n",
    "ax[0].set_title('Clean')\n",
    "ax[0].set_xlabel('$length=1$')\n",
    "\n",
    "# uniform degraded\n",
    "index = 1\n",
    "for level in [5, 9, 13, 17, 21]:\n",
    "    degraded = MotionBlur(level=level, vary='uniform')(image)[0]\n",
    "    ax[index].imshow(degraded.permute(1, 2, 0).cpu().numpy())\n",
    "    ax[index].set_xlabel('$length=${}'.format(level))\n",
    "    index += 1\n",
    "ax[3].set_title('Uniform degradation')\n",
    "    \n",
    "# spatially varying\n",
    "level = (1, 21)\n",
    "for vary in ['1D', '2D']:\n",
    "    degraded = MotionBlur(level=level, vary=vary)(image)[0]\n",
    "    ax[index].imshow(degraded.permute(1, 2, 0).cpu().numpy())\n",
    "    ax[index].set_title('{} varying'.format(vary))\n",
    "    ax[index].set_xlabel('$length=${}'.format(level))\n",
    "    index += 1\n",
    "\n",
    "for i in range(len(ax)):\n",
    "    ax[i].set_xticks([])\n",
    "    ax[i].set_yticks([])\n",
    "plt.subplots_adjust(wspace=0.0) \n",
    "plt.show()"
   ]
  },
  {
   "cell_type": "markdown",
   "metadata": {},
   "source": [
    "## Genearted synthetic images: rectangle crop"
   ]
  },
  {
   "cell_type": "code",
   "execution_count": null,
   "metadata": {},
   "outputs": [],
   "source": [
    "from degradation import RectangleCrop\n",
    "\n",
    "fig, ax = plt.subplots(1, 8, sharey=True, figsize=(15,10/5*4))\n",
    "# clean images\n",
    "ax[0].imshow(image.permute(1, 2, 0).cpu().numpy())\n",
    "ax[0].set_title('Clean')\n",
    "ax[0].set_xlabel('$ratio=0$')\n",
    "\n",
    "# uniform degraded\n",
    "index = 1\n",
    "for level in [0.1, 0.2, 0.3, 0.4, 0.5]:\n",
    "    degraded = RectangleCrop(level=level)(image)[0]\n",
    "    ax[index].imshow(degraded.permute(1, 2, 0).cpu().numpy())\n",
    "    ax[index].set_xlabel('$ratio=${}'.format(level))\n",
    "    index += 1\n",
    "ax[3].set_title('Uniform degradation')\n",
    "    \n",
    "\n",
    "# 1d varying\n",
    "level = (0, 0.5)\n",
    "degraded = RectangleCrop(level=level, patch_num=1)(image)[0]\n",
    "ax[index].imshow(degraded.permute(1, 2, 0).cpu().numpy())\n",
    "ax[index].set_title('1D varying')\n",
    "ax[index].set_xlabel('$ratio=${}'.format(level))\n",
    "index += 1\n",
    "\n",
    "# 2d varying\n",
    "degraded = RectangleCrop(level=level, patch_num=(6, 1))(image)[0]\n",
    "ax[index].imshow(degraded.permute(1, 2, 0).cpu().numpy())\n",
    "ax[index].set_title('2D varying')\n",
    "ax[index].set_xlabel('$ratio=${}'.format(level))\n",
    "index += 1\n",
    "\n",
    "for i in range(len(ax)):\n",
    "    ax[i].set_xticks([])\n",
    "    ax[i].set_yticks([])\n",
    "plt.subplots_adjust(wspace=0.0) \n",
    "plt.show()"
   ]
  },
  {
   "cell_type": "code",
   "execution_count": null,
   "metadata": {},
   "outputs": [],
   "source": []
  }
 ],
 "metadata": {
  "kernelspec": {
   "display_name": "Python 3",
   "language": "python",
   "name": "python3"
  },
  "language_info": {
   "codemirror_mode": {
    "name": "ipython",
    "version": 3
   },
   "file_extension": ".py",
   "mimetype": "text/x-python",
   "name": "python",
   "nbconvert_exporter": "python",
   "pygments_lexer": "ipython3",
   "version": "3.7.9"
  }
 },
 "nbformat": 4,
 "nbformat_minor": 4
}
